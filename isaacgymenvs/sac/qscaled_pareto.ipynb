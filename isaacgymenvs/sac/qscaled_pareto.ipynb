{
 "cells": [
  {
   "cell_type": "code",
   "execution_count": 30,
   "metadata": {},
   "outputs": [],
   "source": [
    "\n",
    "import pandas as pd\n",
    "import matplotlib.pyplot as plt\n",
    "import numpy as np\n",
    "from scipy.optimize import curve_fit\n",
    "from ast import arg\n",
    "import matplotlib.pyplot as plt\n",
    "from tqdm import tqdm\n",
    "\n",
    "import scipy\n",
    "\n",
    "def fit(xs, y, optim_f, init_grid, top_k=500, n_proc=8, tol=None, disp=False, maxiter=None):\n",
    "        _, _, brute_xs, brute_ys = scipy.optimize.brute(optim_f, init_grid, args=(xs, y), full_output=True, finish=None, Ns=1, workers=-1)\n",
    "\n",
    "        brute_xs = brute_xs.reshape(brute_xs.shape[0], -1)\n",
    "        brute_ys = brute_ys.reshape(-1)\n",
    "\n",
    "        top_idxs = np.argsort(brute_ys)[:top_k]\n",
    "        top_xs = brute_xs[:, top_idxs]\n",
    "        # top_ys = brute_ys[top_idxs]\n",
    "        preds = []\n",
    "        for i in tqdm(range(top_xs.shape[1])):\n",
    "            options = {'disp': disp}\n",
    "            if maxiter: options['maxiter'] = maxiter\n",
    "            pred = scipy.optimize.minimize(optim_f, top_xs[:, i], args=(xs, y), method='L-BFGS-B', tol=tol, options=options).x\n",
    "            loss = optim_f(pred, xs, y)\n",
    "            # print(pred, loss)\n",
    "            preds.append((pred, loss))\n",
    "        return sorted(preds, key=lambda x: x[1])[0][0]\n",
    "\n",
    "def power_law_with_const_min(args, *params):\n",
    "    x,y = params\n",
    "    a,b,c = args\n",
    "    # return ((power_law_with_const(x,a,b,c) - y) ** 2).mean()\n",
    "    with np.errstate(invalid='ignore', divide='ignore'):\n",
    "        return ((np.log(power_law_with_const(x,a,b,c) / y)) ** 2).mean()\n",
    "\n",
    "def power_law_with_const(x, a, b, c): return c * (1 + (x/b)**(-a))\n"
   ]
  },
  {
   "cell_type": "code",
   "execution_count": 37,
   "metadata": {},
   "outputs": [
    {
     "name": "stderr",
     "output_type": "stream",
     "text": [
      "100%|██████████| 125/125 [00:01<00:00, 117.25it/s]\n"
     ]
    },
    {
     "name": "stdout",
     "output_type": "stream",
     "text": [
      "loss 0.005570168965138759\n"
     ]
    },
    {
     "data": {
      "image/png": "[encoded data removed]",
      "text/plain": [
       "<Figure size 640x480 with 1 Axes>"
      ]
     },
     "metadata": {},
     "output_type": "display_data"
    }
   ],
   "source": [
    "# Pareto fit \n",
    "\n",
    "n_parallel = np.array([1024, 2048, 4096, 8192, 16384, 32768, 65536])\n",
    "utd = 1/n_parallel * 8\n",
    "time_to_01 = np.array([87, 102, 155, 196, 262, 483, 860])\n",
    "fit_data_points = [1, 2, 3, 4, 5]\n",
    "plot_data_points = [0, 1, 2, 3, 4, 5, 6]\n",
    "\n",
    "scaling = [1000, 1]\n",
    "fitted_params = fit(utd[fit_data_points] * scaling[0], time_to_01[fit_data_points] * scaling[1], power_law_with_const_min,\n",
    "                     [slice(-4, 4, 1.6),slice(1e-5, 5e-4, 1e-4),slice(-10, 10, 4)], maxiter=100)\n",
    "print('loss', power_law_with_const_min(fitted_params, utd[fit_data_points] * scaling[0], time_to_01[fit_data_points] * scaling[1]))\n",
    "a, b, c = fitted_params\n",
    "x_smooth = np.logspace(-1, 1.3, 100)\n",
    "y_fitted = power_law_with_const(x_smooth, a, b, c)\n",
    "  \n",
    "plt.title('Time to performance=0.1')\n",
    "plt.scatter(utd[plot_data_points], time_to_01[plot_data_points], color='blue')\n",
    "plt.plot(x_smooth / scaling[0], y_fitted / scaling[1], 'b-', label=f'y = {c:.0f} * (1 + (x/{b:.2e})^-{a:.2e})')\n",
    "plt.xscale('log')\n",
    "plt.yscale('log')\n",
    "plt.grid(True)\n",
    "plt.legend()\n",
    "plt.show()"
   ]
  },
  {
   "cell_type": "code",
   "execution_count": 25,
   "metadata": {},
   "outputs": [
    {
     "name": "stdout",
     "output_type": "stream",
     "text": [
      "Predicted learning rate for n_parallel=131072: 3.78e-04\n",
      "Predicted learning rate for n_parallel=65536: 3.18e-04\n",
      "Predicted learning rate for n_parallel=32768: 2.67e-04\n"
     ]
    }
   ],
   "source": [
    "# Extrapolate\n",
    "\n",
    "def get_lr(n_parallel):\n",
    "    utd = 8/n_parallel * scaling[0]  # Scale UTD ratio same as training data\n",
    "    predicted_lr = power_law_with_const(utd, a, b, c) / scaling[1]  # Unscale the prediction\n",
    "    return predicted_lr\n",
    "\n",
    "print(f'Predicted learning rate for n_parallel=131072: {get_lr(131072):.2e}')\n",
    "print(f'Predicted learning rate for n_parallel=65536: {get_lr(65536):.2e}')\n",
    "print(f'Predicted learning rate for n_parallel=32768: {get_lr(32768):.2e}')\n"
   ]
  },
  {
   "cell_type": "code",
   "execution_count": null,
   "metadata": {},
   "outputs": [],
   "source": []
  },
  {
   "cell_type": "code",
   "execution_count": null,
   "metadata": {},
   "outputs": [],
   "source": []
  },
  {
   "cell_type": "code",
   "execution_count": null,
   "metadata": {},
   "outputs": [],
   "source": []
  },
  {
   "cell_type": "code",
   "execution_count": null,
   "metadata": {},
   "outputs": [],
   "source": []
  }
 ],
 "metadata": {
  "kernelspec": {
   "display_name": "rl3sb3",
   "language": "python",
   "name": "python3"
  },
  "language_info": {
   "codemirror_mode": {
    "name": "ipython",
    "version": 3
   },
   "file_extension": ".py",
   "mimetype": "text/x-python",
   "name": "python",
   "nbconvert_exporter": "python",
   "pygments_lexer": "ipython3",
   "version": "3.7.12"
  }
 },
 "nbformat": 4,
 "nbformat_minor": 2
}
